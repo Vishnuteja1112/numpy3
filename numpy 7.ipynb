{
 "cells": [
  {
   "cell_type": "code",
   "execution_count": 9,
   "id": "89de337c",
   "metadata": {},
   "outputs": [
    {
     "name": "stdout",
     "output_type": "stream",
     "text": [
      "[[3 2]\n",
      " [4 7]]\n",
      "[[ 2  0]\n",
      " [ 3 12]]\n",
      "[[ 4  6]\n",
      " [10 12]]\n",
      "[[-2.   1. ]\n",
      " [ 1.5 -0.5]]\n"
     ]
    }
   ],
   "source": [
    "import numpy as np\n",
    "A = np.array([[1, 2], [3, 4]])\n",
    "B = np.array([[2, 0], [1, 3]])\n",
    "\n",
    "print(A + B)  # Matrix addition\n",
    "print(A * B)  # Element-wise multiplication\n",
    "print(np.matmul(A, B))  # Matrix multiplication\n",
    "print(np.linalg.inv(A))  # Inverse of A\n"
   ]
  },
  {
   "cell_type": "code",
   "execution_count": 10,
   "id": "b9a5f45f",
   "metadata": {},
   "outputs": [
    {
     "name": "stdout",
     "output_type": "stream",
     "text": [
      "5\n",
      "50\n",
      "125\n"
     ]
    }
   ],
   "source": [
    "arr = np.array([10, 20, 5, 40, 50])\n",
    "\n",
    "print(np.min(arr))  # Minimum\n",
    "print(np.max(arr))  # Maximum\n",
    "print(np.sum(arr))  # Sum of elements\n"
   ]
  },
  {
   "cell_type": "code",
   "execution_count": 11,
   "id": "b40c9764",
   "metadata": {},
   "outputs": [
    {
     "name": "stdout",
     "output_type": "stream",
     "text": [
      "[ 0.   2.5  5.   7.5 10. ]\n"
     ]
    }
   ],
   "source": [
    "arr = np.linspace(0, 10, 5)  # 5 equally spaced values between 0 and 10\n",
    "print(arr)\n"
   ]
  },
  {
   "cell_type": "code",
   "execution_count": 12,
   "id": "014b7947",
   "metadata": {},
   "outputs": [
    {
     "name": "stdout",
     "output_type": "stream",
     "text": [
      "[ 2  3  5  8 10]\n"
     ]
    }
   ],
   "source": [
    "arr = np.array([10, 5, 8, 3, 2])\n",
    "sorted_arr = np.sort(arr)\n",
    "\n",
    "print(sorted_arr)\n"
   ]
  }
 ],
 "metadata": {
  "kernelspec": {
   "display_name": "Python 3 (ipykernel)",
   "language": "python",
   "name": "python3"
  },
  "language_info": {
   "codemirror_mode": {
    "name": "ipython",
    "version": 3
   },
   "file_extension": ".py",
   "mimetype": "text/x-python",
   "name": "python",
   "nbconvert_exporter": "python",
   "pygments_lexer": "ipython3",
   "version": "3.10.9"
  }
 },
 "nbformat": 4,
 "nbformat_minor": 5
}
